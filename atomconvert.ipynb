{
 "cells": [
  {
   "cell_type": "code",
   "execution_count": 13,
   "metadata": {},
   "outputs": [
    {
     "name": "stdout",
     "output_type": "stream",
     "text": [
      "Collecting feedparser\n",
      "  Downloading feedparser-6.0.11-py3-none-any.whl (81 kB)\n",
      "\u001b[2K     \u001b[38;2;114;156;31m━━━━━━━━━━━━━━━━━━━━━━━━━━━━━━━━━━━━━━━\u001b[0m \u001b[32m81.3/81.3 kB\u001b[0m \u001b[31m965.4 kB/s\u001b[0m eta \u001b[36m0:00:00\u001b[0mMB/s\u001b[0m eta \u001b[36m0:00:01\u001b[0m\n",
      "\u001b[?25hCollecting sgmllib3k\n",
      "  Downloading sgmllib3k-1.0.0.tar.gz (5.8 kB)\n",
      "  Preparing metadata (setup.py) ... \u001b[?25ldone\n",
      "\u001b[?25hInstalling collected packages: sgmllib3k, feedparser\n",
      "\u001b[33m  DEPRECATION: sgmllib3k is being installed using the legacy 'setup.py install' method, because it does not have a 'pyproject.toml' and the 'wheel' package is not installed. pip 23.1 will enforce this behaviour change. A possible replacement is to enable the '--use-pep517' option. Discussion can be found at https://github.com/pypa/pip/issues/8559\u001b[0m\u001b[33m\n",
      "\u001b[0m  Running setup.py install for sgmllib3k ... \u001b[?25ldone\n",
      "\u001b[?25hSuccessfully installed feedparser-6.0.11 sgmllib3k-1.0.0\n",
      "\n",
      "\u001b[1m[\u001b[0m\u001b[34;49mnotice\u001b[0m\u001b[1;39;49m]\u001b[0m\u001b[39;49m A new release of pip available: \u001b[0m\u001b[31;49m22.3\u001b[0m\u001b[39;49m -> \u001b[0m\u001b[32;49m24.0\u001b[0m\n",
      "\u001b[1m[\u001b[0m\u001b[34;49mnotice\u001b[0m\u001b[1;39;49m]\u001b[0m\u001b[39;49m To update, run: \u001b[0m\u001b[32;49mpip install --upgrade pip\u001b[0m\n"
     ]
    }
   ],
   "source": [
    "!pip install feedparser"
   ]
  },
  {
   "cell_type": "code",
   "execution_count": 20,
   "metadata": {},
   "outputs": [],
   "source": [
    "import feedparser\n",
    "\n",
    "def atom_to_ris(atom_url, output_file):\n",
    "    # Parse the Atom feed\n",
    "    feed = feedparser.parse(atom_url)\n",
    "\n",
    "    # Open an output file to write the RIS entries\n",
    "    with open(output_file, 'w') as file:\n",
    "        for entry in feed.entries:\n",
    "            # Write the RIS type. TY - is the type of reference, set to JOUR (Journal)\n",
    "            file.write('TY  - JOUR\\n')\n",
    "            # Title of the article\n",
    "            if 'title' in entry:\n",
    "                file.write(f'T1  - {entry.title}\\n')\n",
    "            # Publication year from updated date\n",
    "            if 'updated' in entry:\n",
    "                updated_year = entry.updated_parsed.tm_year\n",
    "                file.write(f'PY  - {updated_year}\\n')\n",
    "            # Link to the article\n",
    "            if 'link' in entry:\n",
    "                file.write(f'UR  - {entry.link}\\n')\n",
    "            # Authors (if available)\n",
    "            if 'author' in entry:\n",
    "                file.write(f'A1  - {entry.author}\\n')\n",
    "            # End of each RIS entry\n",
    "            file.write('ER  - \\n\\n')"
   ]
  },
  {
   "cell_type": "code",
   "execution_count": 19,
   "metadata": {},
   "outputs": [],
   "source": [
    "# Usage\n",
    "atom_url = 'http://export.arxiv.org/api/query?search_query=all:zero+shot+image+classification&start=0&max_results=1000'\n",
    "output_ris_file = 'output.ris'\n",
    "atom_to_ris(atom_url, output_ris_file)\n"
   ]
  }
 ],
 "metadata": {
  "kernelspec": {
   "display_name": ".venv",
   "language": "python",
   "name": "python3"
  },
  "language_info": {
   "codemirror_mode": {
    "name": "ipython",
    "version": 3
   },
   "file_extension": ".py",
   "mimetype": "text/x-python",
   "name": "python",
   "nbconvert_exporter": "python",
   "pygments_lexer": "ipython3",
   "version": "3.10.12"
  }
 },
 "nbformat": 4,
 "nbformat_minor": 2
}
